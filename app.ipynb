{
 "cells": [
  {
   "cell_type": "code",
   "execution_count": 1,
   "metadata": {},
   "outputs": [],
   "source": [
    "import pandas as pd\n",
    "#Importing bokeh libraries\n",
    "import warnings\n",
    "warnings.filterwarnings('ignore')"
   ]
  },
  {
   "cell_type": "code",
   "execution_count": 2,
   "metadata": {},
   "outputs": [],
   "source": [
    "df = pd.read_csv('./Data/Damage_rate_report.csv')"
   ]
  },
  {
   "cell_type": "code",
   "execution_count": 3,
   "metadata": {},
   "outputs": [],
   "source": [
    "#df.head()\n"
   ]
  },
  {
   "cell_type": "code",
   "execution_count": 4,
   "metadata": {},
   "outputs": [],
   "source": [
    "\n",
    "#df.dtypes.value_counts()"
   ]
  },
  {
   "cell_type": "code",
   "execution_count": 5,
   "metadata": {},
   "outputs": [],
   "source": [
    "#Seperating date into year and month\n",
    "\n",
    "df['Period']= df['Period'].astype('str')\n",
    "df[['Month','Year']] = df.Period.str.split(\".\",expand=True) \n",
    "df['Month'].astype('int64')\n",
    "df['Year'].astype('int64')\n",
    "df.drop('Period', axis=1, inplace=True)\n",
    "df.head()\n",
    "\n",
    "df.drop(['Steering Partner ID'], axis=1,inplace=True)\n",
    "df['Non Damaged TO']= df['No of TO']-df['No of damaged TO (RE4 Exception)']"
   ]
  },
  {
   "cell_type": "code",
   "execution_count": 6,
   "metadata": {},
   "outputs": [],
   "source": [
    "pname = df['Steering Partner Name'].unique()"
   ]
  },
  {
   "cell_type": "code",
   "execution_count": 7,
   "metadata": {
    "scrolled": true
   },
   "outputs": [],
   "source": [
    "ind = df[['Steering Partner Country','Steering Partner Name']]\n",
    "kp = df.set_index(['Steering Partner Country','Steering Partner Name'])\n",
    "index = ind.set_index(['Steering Partner Country'])"
   ]
  },
  {
   "cell_type": "code",
   "execution_count": 8,
   "metadata": {},
   "outputs": [],
   "source": [
    "country = ['CZ', 'DE', 'ES', 'FR', 'HU', 'MY','PT', 'RO', 'TR', 'US']\n",
    "\n",
    "#kp.head()"
   ]
  },
  {
   "cell_type": "code",
   "execution_count": null,
   "metadata": {},
   "outputs": [],
   "source": []
  },
  {
   "cell_type": "code",
   "execution_count": 9,
   "metadata": {},
   "outputs": [],
   "source": [
    "#dropdown\n",
    "from ipywidgets import widgets\n",
    "from IPython.display import display\n",
    "import ipywidgets as widgets\n",
    "from ipywidgets import interact, interact_manual\n",
    "\n",
    "w =widgets.Dropdown(\n",
    "    options=country,\n",
    "    value='HU',\n",
    "    description='Country:',\n",
    "    disabled=False,\n",
    ")\n",
    "v =widgets.Dropdown(\n",
    "    options =index.loc[w.value].drop_duplicates().reset_index()['Steering Partner Name'],\n",
    "    value=index.loc[w.value].drop_duplicates().reset_index()['Steering Partner Name'][0],\n",
    "    description='Partner:',\n",
    "    disabled=False,\n",
    ")\n",
    "def update_images(*args):\n",
    "    v.options = index.loc[w.value].drop_duplicates().reset_index()['Steering Partner Name']\n",
    "    \n",
    "w.observe(update_images, 'value')"
   ]
  },
  {
   "cell_type": "code",
   "execution_count": 10,
   "metadata": {},
   "outputs": [],
   "source": [
    "import plotly.express as px\n",
    "import plotly.graph_objects as go\n",
    "\n",
    "def update_plot(w,v):\n",
    "    fig = go.Figure()\n",
    "\n",
    "    c=index.loc[w].drop_duplicates()\n",
    "  \n",
    "    c=c.reset_index()\n",
    "    c =v\n",
    "    c1 = kp.loc[(w,c)]\n",
    "    fig.add_trace(go.Scatter(x=c1['Month'], y=c1['No of TO'],\n",
    "                        mode='lines+markers',\n",
    "                        name='Total TO'))\n",
    "\n",
    "    fig.add_trace(go.Scatter(x=c1['Month'], y=c1['No of damaged TO (RE4 Exception)'],\n",
    "                        mode='lines+markers',\n",
    "                        name='Damaged TO'))\n",
    "    fig.add_trace(go.Scatter(x=c1['Month'], y=c1['Non Damaged TO'],\n",
    "                        mode='lines+markers',\n",
    "                        name='Non Damaged TO'))\n",
    "    \n",
    "    fig.update_layout(\n",
    "        title=c,\n",
    "        xaxis_title=\"Month\",\n",
    "        font=dict(\n",
    "            family=\"Courier New, monospace\",\n",
    "            size=18,\n",
    "            color=\"#7f7f7f\"\n",
    "        )\n",
    "    )\n",
    "\n",
    "    fig.show()\n",
    "\n"
   ]
  },
  {
   "cell_type": "code",
   "execution_count": 12,
   "metadata": {},
   "outputs": [
    {
     "data": {
      "application/vnd.jupyter.widget-view+json": {
       "model_id": "4219bbaf2389420eb6d29740a8a11d48",
       "version_major": 2,
       "version_minor": 0
      },
      "text/plain": [
       "interactive(children=(Dropdown(description='Country:', index=4, options=('CZ', 'DE', 'ES', 'FR', 'HU', 'MY', '…"
      ]
     },
     "metadata": {},
     "output_type": "display_data"
    }
   ],
   "source": [
    "widgets.interactive(update_plot,w=w , v=v)"
   ]
  },
  {
   "cell_type": "code",
   "execution_count": null,
   "metadata": {},
   "outputs": [],
   "source": [
    "\n"
   ]
  },
  {
   "cell_type": "code",
   "execution_count": null,
   "metadata": {
    "scrolled": true
   },
   "outputs": [],
   "source": []
  },
  {
   "cell_type": "code",
   "execution_count": null,
   "metadata": {},
   "outputs": [],
   "source": []
  },
  {
   "cell_type": "code",
   "execution_count": null,
   "metadata": {},
   "outputs": [],
   "source": []
  },
  {
   "cell_type": "code",
   "execution_count": null,
   "metadata": {},
   "outputs": [],
   "source": []
  },
  {
   "cell_type": "code",
   "execution_count": null,
   "metadata": {},
   "outputs": [],
   "source": [
    "\n",
    "\n"
   ]
  },
  {
   "cell_type": "code",
   "execution_count": null,
   "metadata": {},
   "outputs": [],
   "source": [
    "\n",
    "    "
   ]
  },
  {
   "cell_type": "code",
   "execution_count": null,
   "metadata": {},
   "outputs": [],
   "source": []
  },
  {
   "cell_type": "code",
   "execution_count": null,
   "metadata": {},
   "outputs": [],
   "source": []
  },
  {
   "cell_type": "code",
   "execution_count": null,
   "metadata": {},
   "outputs": [],
   "source": []
  },
  {
   "cell_type": "code",
   "execution_count": null,
   "metadata": {},
   "outputs": [],
   "source": []
  }
 ],
 "metadata": {
  "kernelspec": {
   "display_name": "Python 3",
   "language": "python",
   "name": "python3"
  },
  "language_info": {
   "codemirror_mode": {
    "name": "ipython",
    "version": 3
   },
   "file_extension": ".py",
   "mimetype": "text/x-python",
   "name": "python",
   "nbconvert_exporter": "python",
   "pygments_lexer": "ipython3",
   "version": "3.7.7"
  }
 },
 "nbformat": 4,
 "nbformat_minor": 4
}
